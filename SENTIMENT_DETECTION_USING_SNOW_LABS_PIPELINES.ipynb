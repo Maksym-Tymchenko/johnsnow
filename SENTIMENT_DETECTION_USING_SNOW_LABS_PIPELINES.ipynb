{
  "cells": [
    {
      "cell_type": "markdown",
      "metadata": {
        "id": "view-in-github",
        "colab_type": "text"
      },
      "source": [
        "<a href=\"https://colab.research.google.com/github/Maksym-Tymchenko/johnsnow/blob/main/SENTIMENT_DETECTION_USING_SNOW_LABS_PIPELINES.ipynb\" target=\"_parent\"><img src=\"https://colab.research.google.com/assets/colab-badge.svg\" alt=\"Open In Colab\"/></a>"
      ]
    },
    {
      "cell_type": "markdown",
      "metadata": {
        "id": "9oYgZXG4gDt1"
      },
      "source": [
        "# **Sentiment Analysis for News Articles**"
      ]
    },
    {
      "cell_type": "markdown",
      "metadata": {
        "id": "7c9xk47mgkcB"
      },
      "source": [
        "## 1. Colab Setup"
      ]
    },
    {
      "cell_type": "code",
      "execution_count": 2,
      "metadata": {
        "id": "pDySD2IHU9di",
        "colab": {
          "base_uri": "https://localhost:8080/"
        },
        "outputId": "c0dd65bd-7faa-4a39-d36b-64c8b623cea7"
      },
      "outputs": [
        {
          "output_type": "stream",
          "name": "stdout",
          "text": [
            "\u001b[K     |████████████████████████████████| 212.4 MB 69 kB/s \n",
            "\u001b[K     |████████████████████████████████| 140 kB 69.9 MB/s \n",
            "\u001b[K     |████████████████████████████████| 198 kB 24.9 MB/s \n",
            "\u001b[?25h  Building wheel for pyspark (setup.py) ... \u001b[?25l\u001b[?25hdone\n",
            "\u001b[K     |████████████████████████████████| 95 kB 3.7 MB/s \n",
            "\u001b[K     |████████████████████████████████| 66 kB 7.6 MB/s \n",
            "\u001b[?25h"
          ]
        }
      ],
      "source": [
        "# Install PySpark and Spark NLP\n",
        "! pip install -q pyspark==3.1.2 spark-nlp\n",
        "\n",
        "# Install Spark NLP Display lib\n",
        "! pip install --upgrade -q spark-nlp-display"
      ]
    },
    {
      "cell_type": "code",
      "execution_count": 17,
      "metadata": {
        "colab": {
          "base_uri": "https://localhost:8080/"
        },
        "id": "bnOW8Mt7VH97",
        "outputId": "32418efb-8694-4ae2-957d-d6f7f0d49ae3"
      },
      "outputs": [
        {
          "output_type": "stream",
          "name": "stdout",
          "text": [
            "Spark NLP version:  3.4.0\n",
            "Apache Spark version:  3.1.2\n"
          ]
        }
      ],
      "source": [
        "import sparknlp\n",
        "import pandas as pd\n",
        "from pyspark.ml import Pipeline\n",
        "from pyspark.sql import SparkSession\n",
        "import pyspark.sql.functions as F\n",
        "from tabulate import tabulate\n",
        "import sparknlp\n",
        "from sparknlp.annotator import *\n",
        "from sparknlp.base import *\n",
        "from sparknlp.pretrained import PretrainedPipeline\n",
        "\n",
        "spark = sparknlp.start()\n",
        "\n",
        "print(\"Spark NLP version: \", sparknlp.version())\n",
        "print(\"Apache Spark version: \", spark.version)"
      ]
    },
    {
      "cell_type": "markdown",
      "metadata": {
        "id": "MXvVn1dcg9dX"
      },
      "source": [
        "## 2. Some sample examples"
      ]
    },
    {
      "cell_type": "code",
      "execution_count": 62,
      "metadata": {
        "id": "hQDeRIMRVUwP"
      },
      "outputs": [],
      "source": [
        "text_list = [\n",
        "\"\"\"In April 2005 , Neste separated from its parent company , Finnish energy company Fortum , and became listed on the Helsinki Stock Exchange .\"\"\",\n",
        "\"\"\"Finnish IT solutions provider Affecto Oyj HEL : AFE1V said today its slipped to a net loss of EUR 115,000 USD 152,000 in the second quarter of 2010 from a profit of EUR 845,000 in the corresponding period a year earlier .\"\"\",             \n",
        "\"\"\"10 February 2011 - Finnish media company Sanoma Oyj HEL : SAA1V said yesterday its 2010 net profit almost tripled to EUR297 .3 m from EUR107 .1 m for 2009 and announced a proposal for a raised payout .\"\"\",\n",
        "\"\"\"Profit before taxes decreased by 9 % to EUR 187.8 mn in the first nine months of 2008 , compared to EUR 207.1 mn a year earlier .\"\"\",\n",
        "\"\"\"The world 's second largest stainless steel maker said net profit in the three-month period until Dec. 31 surged to euro603 million US$ 781 million , or euro3 .33 US$ 4.31 per share , from euro172 million , or euro0 .94 per share , the previous year .\"\"\",\n",
        "\"\"\"TietoEnator signed an agreement to acquire Indian research and development ( R&D ) services provider and turnkey software solutions developer Fortuna Technologies Pvt. Ltd. for 21 mln euro ( $ 30.3 mln ) in September 2007 .\"\"\",\n",
        "]"
      ]
    },
    {
      "cell_type": "markdown",
      "metadata": {
        "id": "4-MLRWUEhJTj"
      },
      "source": [
        "## 3. Define Spark NLP pipeline"
      ]
    },
    {
      "cell_type": "code",
      "execution_count": 8,
      "metadata": {
        "colab": {
          "base_uri": "https://localhost:8080/"
        },
        "id": "KxIS_wyOYCAM",
        "outputId": "7e1d34d1-58ea-4087-d375-4a851c51ce7f"
      },
      "outputs": [
        {
          "output_type": "stream",
          "name": "stdout",
          "text": [
            "sent_bert_wiki_books_sst2 download started this may take some time.\n",
            "Approximate size to download 389.7 MB\n",
            "[OK!]\n",
            "classifierdl_bertwiki_finance_sentiment download started this may take some time.\n",
            "Approximate size to download 22.5 MB\n",
            "[OK!]\n"
          ]
        }
      ],
      "source": [
        "document = DocumentAssembler()\\\n",
        "    .setInputCol(\"text\")\\\n",
        "    .setOutputCol(\"document\")\n",
        "\n",
        "embeddings = BertSentenceEmbeddings\\\n",
        "    .pretrained('sent_bert_wiki_books_sst2', 'en') \\\n",
        "    .setInputCols([\"document\"])\\\n",
        "    .setOutputCol(\"sentence_embeddings\")\n",
        "\n",
        "sentimentClassifier = ClassifierDLModel.pretrained(\"classifierdl_bertwiki_finance_sentiment\", \"en\") \\\n",
        "  .setInputCols([\"document\", \"sentence_embeddings\"]) \\\n",
        "  .setOutputCol(\"class\")\n",
        "\n",
        "financial_sentiment_pipeline = Pipeline(stages=[document, embeddings, sentimentClassifier])\n",
        "\n",
        "light_pipeline = LightPipeline(financial_sentiment_pipeline.fit(spark.createDataFrame([['']]).toDF(\"text\")))"
      ]
    },
    {
      "cell_type": "markdown",
      "metadata": {
        "id": "_iNg02XIhVKn"
      },
      "source": [
        "## 4. Run the pipeline"
      ]
    },
    {
      "cell_type": "code",
      "execution_count": 75,
      "metadata": {
        "id": "sQ7QMn5ZYFFM",
        "colab": {
          "base_uri": "https://localhost:8080/"
        },
        "outputId": "b7b46bb9-42ed-4a77-d2b7-2526bd4f28c7"
      },
      "outputs": [
        {
          "output_type": "stream",
          "name": "stdout",
          "text": [
            "+--------------------+--------------------+--------------------+--------------------+\n",
            "|                text|            document| sentence_embeddings|               class|\n",
            "+--------------------+--------------------+--------------------+--------------------+\n",
            "|In April 2005 , N...|[{document, 0, 13...|[{sentence_embedd...|[{category, 0, 13...|\n",
            "|Finnish IT soluti...|[{document, 0, 22...|[{sentence_embedd...|[{category, 0, 22...|\n",
            "|10 February 2011 ...|[{document, 0, 20...|[{sentence_embedd...|[{category, 0, 20...|\n",
            "|Profit before tax...|[{document, 0, 12...|[{sentence_embedd...|[{category, 0, 12...|\n",
            "|The world 's seco...|[{document, 0, 25...|[{sentence_embedd...|[{category, 0, 25...|\n",
            "|TietoEnator signe...|[{document, 0, 22...|[{sentence_embedd...|[{category, 0, 22...|\n",
            "+--------------------+--------------------+--------------------+--------------------+\n",
            "\n",
            "None\n"
          ]
        }
      ],
      "source": [
        "empty_df = spark.createDataFrame([['']]).toDF(\"text\")\n",
        "pipelineModel = financial_sentiment_pipeline.fit(empty_df)\n",
        "\n",
        "# Create dataframe from text_list defined above\n",
        "df = spark.createDataFrame(pd.DataFrame({\"text\":text_list}))\n",
        "result = pipelineModel.transform(df)\n",
        "print(result.show())"
      ]
    },
    {
      "cell_type": "markdown",
      "metadata": {
        "id": "Tq1AUzVShX9I"
      },
      "source": [
        "## 5. Visualize results of custom pipeline"
      ]
    },
    {
      "cell_type": "code",
      "execution_count": 96,
      "metadata": {
        "colab": {
          "base_uri": "https://localhost:8080/"
        },
        "id": "r4xzwmhQYVPO",
        "outputId": "df2eda48-445d-49d9-a68a-85782d219e0b"
      },
      "outputs": [
        {
          "output_type": "stream",
          "name": "stdout",
          "text": [
            "+-----------------------------------------------------------------------------------------------------------------------------------------------------------------------------------------------------------------------------------------------------------+--------+\n",
            "|document                                                                                                                                                                                                                                                   |class   |\n",
            "+-----------------------------------------------------------------------------------------------------------------------------------------------------------------------------------------------------------------------------------------------------------+--------+\n",
            "|In April 2005 , Neste separated from its parent company , Finnish energy company Fortum , and became listed on the Helsinki Stock Exchange .                                                                                                               |neutral |\n",
            "|Finnish IT solutions provider Affecto Oyj HEL : AFE1V said today its slipped to a net loss of EUR 115,000 USD 152,000 in the second quarter of 2010 from a profit of EUR 845,000 in the corresponding period a year earlier .                              |negative|\n",
            "|10 February 2011 - Finnish media company Sanoma Oyj HEL : SAA1V said yesterday its 2010 net profit almost tripled to EUR297 .3 m from EUR107 .1 m for 2009 and announced a proposal for a raised payout .                                                  |positive|\n",
            "|Profit before taxes decreased by 9 % to EUR 187.8 mn in the first nine months of 2008 , compared to EUR 207.1 mn a year earlier .                                                                                                                          |negative|\n",
            "|The world 's second largest stainless steel maker said net profit in the three-month period until Dec. 31 surged to euro603 million US$ 781 million , or euro3 .33 US$ 4.31 per share , from euro172 million , or euro0 .94 per share , the previous year .|positive|\n",
            "|TietoEnator signed an agreement to acquire Indian research and development ( R&D ) services provider and turnkey software solutions developer Fortuna Technologies Pvt. Ltd. for 21 mln euro ( $ 30.3 mln ) in September 2007 .                            |neutral |\n",
            "+-----------------------------------------------------------------------------------------------------------------------------------------------------------------------------------------------------------------------------------------------------------+--------+\n",
            "\n"
          ]
        }
      ],
      "source": [
        "result.select(F.explode(F.arrays_zip('document.result', 'class.result')).alias(\"cols\")) \\\n",
        ".select(F.expr(\"cols['0']\").alias(\"document\"),\n",
        "        F.expr(\"cols['1']\").alias(\"class\")).show(truncate=False)"
      ]
    },
    {
      "cell_type": "markdown",
      "source": [
        "# Annotate Spark Dataframe using analyze_sentiment pipeline"
      ],
      "metadata": {
        "id": "FEJK9afDGoZr"
      }
    },
    {
      "cell_type": "markdown",
      "source": [
        "Import the pretrained pipeline analyze_sentiment and predict the sentiment of a toy sentence."
      ],
      "metadata": {
        "id": "CLNHzDYNPBFm"
      }
    },
    {
      "cell_type": "code",
      "source": [
        "pipeline = PretrainedPipeline('analyze_sentiment', lang = 'en')\n",
        "annotations =  pipeline.fullAnnotate(\"Hello from John Snow Labs ! \")[0]\n",
        "annotations[\"sentiment\"]"
      ],
      "metadata": {
        "colab": {
          "base_uri": "https://localhost:8080/"
        },
        "id": "v6FYd7o7EqRH",
        "outputId": "19dc0f81-7896-43ab-a41c-22ea8ae203c6"
      },
      "execution_count": 98,
      "outputs": [
        {
          "output_type": "stream",
          "name": "stdout",
          "text": [
            "analyze_sentiment download started this may take some time.\n",
            "Approx size to download 4.9 MB\n",
            "[OK!]\n"
          ]
        },
        {
          "output_type": "execute_result",
          "data": {
            "text/plain": [
              "[Annotation(sentiment, 0, 26, negative, {'confidence': '0.3729'})]"
            ]
          },
          "metadata": {},
          "execution_count": 98
        }
      ]
    },
    {
      "cell_type": "markdown",
      "source": [
        "# Annotate Spark Dataframe using analyze_sentimentdl_glove_imbd pipeline"
      ],
      "metadata": {
        "id": "4MRwR3MSBLDA"
      }
    },
    {
      "cell_type": "markdown",
      "source": [
        "### Annotate simple sentence"
      ],
      "metadata": {
        "id": "7LSSMr36J4-s"
      }
    },
    {
      "cell_type": "markdown",
      "source": [
        "Import the pretrained pipeline analyze_sentimentdl_glove_imbd and predict the sentiment of a simple sentence."
      ],
      "metadata": {
        "id": "lR4_pJHwPgnP"
      }
    },
    {
      "cell_type": "code",
      "source": [
        "pipeline = PretrainedPipeline('analyze_sentimentdl_glove_imdb', lang = 'en')\n",
        "\n",
        "# Annotate simple sentence\n",
        "annotations =  pipeline.annotate(\"Hello from John Snow Labs ! \")\n",
        "print(\"Sentence annotation: \")\n",
        "print(annotations[\"sentiment\"])"
      ],
      "metadata": {
        "colab": {
          "base_uri": "https://localhost:8080/"
        },
        "id": "Ud4HYClzBSSv",
        "outputId": "16e01cbb-4cc8-4f47-ac16-da30943e1e71"
      },
      "execution_count": 97,
      "outputs": [
        {
          "output_type": "stream",
          "name": "stdout",
          "text": [
            "analyze_sentimentdl_glove_imdb download started this may take some time.\n",
            "Approx size to download 155.3 MB\n",
            "[OK!]\n",
            "Sentence annotation: \n",
            "['neg']\n"
          ]
        }
      ]
    },
    {
      "cell_type": "markdown",
      "source": [
        "### Annotate small dataframe"
      ],
      "metadata": {
        "id": "7OEP2i7tJ-DI"
      }
    },
    {
      "cell_type": "markdown",
      "source": [
        "Import the pretrained pipeline analyze_sentimentdl_glove_imbd and predict the sentiment of a collection of sentences stored in a small dataframe."
      ],
      "metadata": {
        "id": "8_8j_giSPi90"
      }
    },
    {
      "cell_type": "code",
      "source": [
        "# Create toy dataframe \n",
        "sentences = [\n",
        "  ['Hello, this is an example sentence'],\n",
        "  ['And this is a second sentence.']\n",
        "]\n",
        "\n",
        "# spark is the Spark Session automatically started by pyspark.\n",
        "data = spark.createDataFrame(sentences).toDF(\"text\")\n",
        "\n",
        "# Transform 'data' and store output in a new 'annotations_df' dataframe\n",
        "annotations_df = pipeline.transform(data)\n",
        "\n",
        "# Extract sentiment only\n",
        "essential_df = annotations_df.select('text', 'sentiment.result')\n",
        "\n",
        "# Show the results\n",
        "essential_df.show()"
      ],
      "metadata": {
        "colab": {
          "base_uri": "https://localhost:8080/"
        },
        "id": "RiNSCyS6KBE5",
        "outputId": "13ee8292-b1de-469c-8074-f2c1b47d4719"
      },
      "execution_count": 95,
      "outputs": [
        {
          "output_type": "stream",
          "name": "stdout",
          "text": [
            "+--------------------+------+\n",
            "|                text|result|\n",
            "+--------------------+------+\n",
            "|Hello, this is an...| [neg]|\n",
            "|And this is a sec...| [pos]|\n",
            "+--------------------+------+\n",
            "\n"
          ]
        }
      ]
    }
  ],
  "metadata": {
    "accelerator": "GPU",
    "colab": {
      "collapsed_sections": [],
      "name": "SENTIMENT DETECTION USING SNOW LABS PIPELINES.ipynb",
      "provenance": [],
      "include_colab_link": true
    },
    "interpreter": {
      "hash": "45150093197569bb3a58481dcd32cd1adb45462fa3448719e8ac38ada6166aca"
    },
    "kernelspec": {
      "display_name": "Python 3.6.10 64-bit ('tensorflow2_p36': conda)",
      "name": "python3"
    },
    "language_info": {
      "codemirror_mode": {
        "name": "ipython",
        "version": 3
      },
      "file_extension": ".py",
      "mimetype": "text/x-python",
      "name": "python",
      "nbconvert_exporter": "python",
      "pygments_lexer": "ipython3",
      "version": "3.6.10"
    }
  },
  "nbformat": 4,
  "nbformat_minor": 0
}